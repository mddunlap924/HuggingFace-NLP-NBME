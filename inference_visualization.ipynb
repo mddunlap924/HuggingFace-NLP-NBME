{
 "cells": [
  {
   "cell_type": "code",
   "execution_count": 1,
   "metadata": {
    "collapsed": false,
    "pycharm": {
     "name": "#%%\n"
    }
   },
   "outputs": [
    {
     "name": "stderr",
     "output_type": "stream",
     "text": [
      "/home/workstation/Coding/NLP_NBME/venv/lib/python3.9/site-packages/tqdm/auto.py:22: TqdmWarning: IProgress not found. Please update jupyter and ipywidgets. See https://ipywidgets.readthedocs.io/en/stable/user_install.html\n",
      "  from .autonotebook import tqdm as notebook_tqdm\n"
     ]
    }
   ],
   "source": [
    "from pathlib import Path\n",
    "import pandas as pd\n",
    "import pandas as pd \n",
    "\n",
    "import spacy\n",
    "\n",
    "\n",
    "from termcolor import colored\n",
    "from wordcloud import WordCloud,STOPWORDS\n",
    "from spacy import displacy\n",
    "from nltk.tokenize import sent_tokenize, word_tokenize \n",
    "\n",
    "import warnings\n",
    "warnings.filterwarnings(\"ignore\")\n",
    "\n",
    "\n",
    "\"\"\" Data Loading \"\"\"\n",
    "DATA_PATH = Path('input/nbme-score-clinical-patient-notes')\n",
    "features_df = pd.read_csv(DATA_PATH / 'features.csv')\n",
    "patient_notes_df = pd.read_csv(DATA_PATH / 'patient_notes.csv')\n",
    "train_df = pd.read_csv(DATA_PATH / 'train.csv')\n",
    "\n",
    "\"\"\" Load an English pipeline optimized for CPU \"\"\"\n",
    "nlp = spacy.load('en_core_web_sm')"
   ]
  },
  {
   "cell_type": "code",
   "execution_count": 2,
   "metadata": {},
   "outputs": [],
   "source": [
    "def patient_data(pn_num):\n",
    "    subset = train_df[train_df['pn_num'] == pn_num].copy()\n",
    "    \n",
    "    features_lst = subset['feature_num'].tolist()\n",
    "    \n",
    "    subset['location'] = subset['location'].apply(eval)\n",
    "    subset['annotation'] = subset['annotation'].apply(eval)\n",
    "    locations  = subset[\"location\"]\n",
    "    \n",
    "    print(\"*\"*80)\n",
    "    print(colored(\"Patient Number: \" + str(pn_num), 'green'))\n",
    "    patient_history = patient_notes_df[patient_notes_df['pn_num']==pn_num]['pn_history'].item()\n",
    "    \n",
    "    print(colored(\"\\nAnnotated Patient History\", 'green'))\n",
    "    \n",
    "    ents = []\n",
    "    for location in locations:\n",
    "        for _ in range(len(location)):\n",
    "            for loc in location:\n",
    "                val = loc.split()\n",
    "                ents.append({\n",
    "                'start': int(val[0]), \n",
    "                'end' :  int(val[1]),\n",
    "                'label' : \"Annotation\"\n",
    "                })\n",
    "    ents = sorted(ents, key = lambda i: i['start'])\n",
    "\n",
    "    doc = {\n",
    "        'text' : patient_history,\n",
    "        'ents' : ents\n",
    "    }\n",
    "    colors = {\"Annotation\" :\"linear-gradient(to right, #2980b9, #6dd5fa, #ffffff);\" } \n",
    "    options = {\"colors\": colors}\n",
    "    spacy.displacy.render(doc, style='ent', options = options , manual=True, jupyter=True);\n",
    "    \n",
    "    print(colored(\"\\nVisualizing NER\", 'green'))\n",
    "    doc = nlp(patient_history)\n",
    "    displacy.render(doc, style='ent', jupyter = True)\n",
    "    \n",
    "    print(colored(\"\\nVisualizing POS tagging\", 'green'))\n",
    "    sentences = sent_tokenize(patient_history)\n",
    "    word_count = lambda sentence: len(word_tokenize(sentence))\n",
    "    pos_text = max(sentences, key=word_count)  \n",
    "    doc = nlp(pos_text)\n",
    "    displacy.render(doc, style=\"dep\")\n",
    "\n",
    "    print(colored(\"\\nFeatures\", 'green'))\n",
    "    for feature_num in features_lst:\n",
    "        feature = features_df[features_df['feature_num'] == feature_num]['feature_text'][feature_num]\n",
    "        print(colored(feature, 'blue'))\n",
    "        \n",
    "patient_data(16)\n",
    "# patient_data(46)\n",
    "# patient_data(100)"
   ]
  }
 ],
 "metadata": {
  "kernelspec": {
   "display_name": "Python 3.9.13 ('venv': venv)",
   "language": "python",
   "name": "python3"
  },
  "language_info": {
   "codemirror_mode": {
    "name": "ipython",
    "version": 3
   },
   "file_extension": ".py",
   "mimetype": "text/x-python",
   "name": "python",
   "nbconvert_exporter": "python",
   "pygments_lexer": "ipython3",
   "version": "3.9.13"
  },
  "vscode": {
   "interpreter": {
    "hash": "efaf0b18e58ca9f300a1cbdc63b5f2da6a957d2351b9fefda1069ce06d00ca41"
   }
  }
 },
 "nbformat": 4,
 "nbformat_minor": 4
}
